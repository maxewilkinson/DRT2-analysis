{
 "cells": [
  {
   "cell_type": "code",
   "execution_count": null,
   "metadata": {},
   "outputs": [],
   "source": [
    "# Run in bioconda environment\n",
    "\n",
    "#Import helpful packages\n",
    "import numpy as np\n",
    "import matplotlib.pyplot as plt\n",
    "import matplotlib\n",
    "from Bio import AlignIO\n",
    "\n",
    "matplotlib.rcParams['pdf.fonttype'] = 42\n",
    "matplotlib.rcParams['ps.fonttype'] = 42\n",
    "matplotlib.rcParams['font.family'] = 'sans-serif'\n",
    "matplotlib.rcParams['font.sans-serif'] = 'Helvetica'\n",
    "matplotlib.rcParams['font.size'] = 10\n",
    "matplotlib.rcParams['axes.linewidth'] = 0.5\n",
    "matplotlib.rcParams['xtick.major.width'] = 0.5\n",
    "matplotlib.rcParams['ytick.major.width'] = 0.5\n",
    "\n",
    "matplotlib.rcParams['patch.force_edgecolor'] = True\n",
    "matplotlib.rcParams['patch.linewidth'] = 0.5\n"
   ]
  },
  {
   "cell_type": "markdown",
   "metadata": {},
   "source": [
    "# Figure 2A"
   ]
  },
  {
   "cell_type": "code",
   "execution_count": null,
   "metadata": {},
   "outputs": [],
   "source": [
    "\n",
    "RNA_alignment = AlignIO.read(\"ncRNA_alignment.fasta\", 'fasta')"
   ]
  },
  {
   "cell_type": "code",
   "execution_count": null,
   "metadata": {},
   "outputs": [],
   "source": [
    "# calculate conservation as difference in entropy from maximum entropy\n",
    "alignment = np.array(RNA_alignment)\n",
    "alignment_nogap = alignment[:,alignment[0]!='-'] #first row is the reference sequence\n",
    "conservation = np.zeros(alignment_nogap.shape[1])\n",
    "for base in ['A','T','C','G']:\n",
    "    freq = np.sum(alignment_nogap==base, axis=0)/44\n",
    "    freq[freq==0] = 0.00001 # to avoid log of 0\n",
    "    conservation += freq * np.log2(freq)\n",
    "conservation += 2"
   ]
  },
  {
   "cell_type": "code",
   "execution_count": null,
   "metadata": {},
   "outputs": [],
   "source": [
    "fig, ax = plt.subplots(figsize=(4,3))\n",
    "\n",
    "ax.plot(conservation, color=\"#DBDAD5\")\n",
    "moving_average_window = 5\n",
    "sliding_average = np.empty(len(conservation))\n",
    "sliding_average[:] = np.nan\n",
    "for i in range(len(conservation)):\n",
    "    if i-moving_average_window >= 0 and i+moving_average_window <= len(conservation):\n",
    "        sliding_average[i] = np.average(conservation[i-moving_average_window:i+moving_average_window])\n",
    "ax.plot(sliding_average, color=\"#DC3860\")\n",
    "ax.axvline(28, linestyle='--', color='k')\n",
    "ax.axvline(148, linestyle='--', color='k')\n",
    "plt.savefig(\"Fig2A.pdf\", transparent=True)"
   ]
  }
 ],
 "metadata": {
  "kernelspec": {
   "display_name": "bioconda2",
   "language": "python",
   "name": "python3"
  },
  "language_info": {
   "codemirror_mode": {
    "name": "ipython",
    "version": 3
   },
   "file_extension": ".py",
   "mimetype": "text/x-python",
   "name": "python",
   "nbconvert_exporter": "python",
   "pygments_lexer": "ipython3",
   "version": "3.9.19"
  }
 },
 "nbformat": 4,
 "nbformat_minor": 2
}
